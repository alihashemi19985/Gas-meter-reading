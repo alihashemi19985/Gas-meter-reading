{
 "cells": [
  {
   "cell_type": "code",
   "execution_count": 2,
   "metadata": {},
   "outputs": [
    {
     "name": "stderr",
     "output_type": "stream",
     "text": [
      "c:\\Users\\Ali\\Desktop\\DIG\\env\\lib\\site-packages\\tqdm\\auto.py:21: TqdmWarning: IProgress not found. Please update jupyter and ipywidgets. See https://ipywidgets.readthedocs.io/en/stable/user_install.html\n",
      "  from .autonotebook import tqdm as notebook_tqdm\n"
     ]
    }
   ],
   "source": [
    "import os\n",
    "import numpy as np\n",
    "import matplotlib.pyplot as plt \n",
    "from PIL import Image\n",
    "from torchvision.transforms import ToPILImage\n",
    "import torch\n",
    "import torch.nn as nn\n",
    "from torch.utils.data import Dataset,random_split\n",
    "from torch.optim.lr_scheduler import ExponentialLR, CosineAnnealingWarmRestarts,PolynomialLR\n",
    "from torchvision import transforms, models \n",
    "from Data_loader import CustomDataset\n",
    "from Model import Mobile_Net\n",
    "import warnings\n",
    "warnings.filterwarnings(\"ignore\") \n",
    "from torchvision import models\n",
    "from torchsummary import summary   \n",
    "import cv2  "
   ]
  },
  {
   "cell_type": "code",
   "execution_count": 4,
   "metadata": {},
   "outputs": [],
   "source": [
    "root = r'C:\\Users\\Ali\\Desktop\\DIG\\Noisee_denoise\\for_noise'    "
   ]
  },
  {
   "cell_type": "code",
   "execution_count": 5,
   "metadata": {},
   "outputs": [],
   "source": [
    "class CustomDataset(Dataset):\n",
    "    def __init__(self, root, transform):\n",
    "        self.root = root\n",
    "        self.transform = transform   \n",
    "        self.images = self.load_images()\n",
    "\n",
    "    def load_images(self):\n",
    "        images = []\n",
    "        for file_name in os.listdir(root):\n",
    "                if file_name != 'Thumbs.ini':\n",
    "                    file_path = os.path.join(root, file_name)\n",
    "                    images.append((file_path))\n",
    "        return images\n",
    "\n",
    "    def __len__(self):\n",
    "        return len(self.images)\n",
    "\n",
    "    def __getitem__(self, index):\n",
    "        img_path = self.images[index]\n",
    "        img = Image.open(img_path).convert('RGB')\n",
    "\n",
    "        if self.transform is not None:\n",
    "            img = self.transform(img)\n",
    "\n",
    "        return img\n",
    "transform = transforms.Compose([\n",
    "    transforms.Resize((224,1792)),\n",
    "    transforms.ToTensor()\n",
    "])      \n",
    "\n",
    "imgs = CustomDataset(root,transform) "
   ]
  },
  {
   "cell_type": "code",
   "execution_count": 15,
   "metadata": {},
   "outputs": [],
   "source": [
    "a = imgs[0][:,:,0:224]\n",
    "to_pil = ToPILImage()\n",
    "image_pil = to_pil(a)\n",
    "\n",
    "# Save the PIL Image\n",
    "image_pil.save('output_image.png') "
   ]
  },
  {
   "cell_type": "code",
   "execution_count": 6,
   "metadata": {},
   "outputs": [
    {
     "ename": "UnidentifiedImageError",
     "evalue": "cannot identify image file 'C:\\\\Users\\\\Ali\\\\Desktop\\\\DIG\\\\Noisee_denoise\\\\for_noise\\\\Thumbs.db'",
     "output_type": "error",
     "traceback": [
      "\u001b[1;31m---------------------------------------------------------------------------\u001b[0m",
      "\u001b[1;31mUnidentifiedImageError\u001b[0m                    Traceback (most recent call last)",
      "Cell \u001b[1;32mIn[6], line 3\u001b[0m\n\u001b[0;32m      1\u001b[0m to_pil \u001b[38;5;241m=\u001b[39m ToPILImage()\n\u001b[0;32m      2\u001b[0m save_dir \u001b[38;5;241m=\u001b[39m \u001b[38;5;124mr\u001b[39m\u001b[38;5;124m'\u001b[39m\u001b[38;5;124mC:\u001b[39m\u001b[38;5;124m\\\u001b[39m\u001b[38;5;124mUsers\u001b[39m\u001b[38;5;124m\\\u001b[39m\u001b[38;5;124mAli\u001b[39m\u001b[38;5;124m\\\u001b[39m\u001b[38;5;124mDesktop\u001b[39m\u001b[38;5;124m\\\u001b[39m\u001b[38;5;124mDIG\u001b[39m\u001b[38;5;124m\\\u001b[39m\u001b[38;5;124mNoisee_denoise\u001b[39m\u001b[38;5;124m\\\u001b[39m\u001b[38;5;124mSplit_org_for_noise\u001b[39m\u001b[38;5;124m'\u001b[39m\n\u001b[1;32m----> 3\u001b[0m \u001b[38;5;28;01mfor\u001b[39;00m i, img \u001b[38;5;129;01min\u001b[39;00m \u001b[38;5;28menumerate\u001b[39m(imgs):\n\u001b[0;32m      4\u001b[0m     height \u001b[38;5;241m=\u001b[39m \u001b[38;5;241m1792\u001b[39m\n\u001b[0;32m      5\u001b[0m     width \u001b[38;5;241m=\u001b[39m \u001b[38;5;241m224\u001b[39m\n",
      "Cell \u001b[1;32mIn[5], line 20\u001b[0m, in \u001b[0;36mCustomDataset.__getitem__\u001b[1;34m(self, index)\u001b[0m\n\u001b[0;32m     18\u001b[0m \u001b[38;5;28;01mdef\u001b[39;00m \u001b[38;5;21m__getitem__\u001b[39m(\u001b[38;5;28mself\u001b[39m, index):\n\u001b[0;32m     19\u001b[0m     img_path \u001b[38;5;241m=\u001b[39m \u001b[38;5;28mself\u001b[39m\u001b[38;5;241m.\u001b[39mimages[index]\n\u001b[1;32m---> 20\u001b[0m     img \u001b[38;5;241m=\u001b[39m \u001b[43mImage\u001b[49m\u001b[38;5;241;43m.\u001b[39;49m\u001b[43mopen\u001b[49m\u001b[43m(\u001b[49m\u001b[43mimg_path\u001b[49m\u001b[43m)\u001b[49m\u001b[38;5;241m.\u001b[39mconvert(\u001b[38;5;124m'\u001b[39m\u001b[38;5;124mRGB\u001b[39m\u001b[38;5;124m'\u001b[39m)\n\u001b[0;32m     22\u001b[0m     \u001b[38;5;28;01mif\u001b[39;00m \u001b[38;5;28mself\u001b[39m\u001b[38;5;241m.\u001b[39mtransform \u001b[38;5;129;01mis\u001b[39;00m \u001b[38;5;129;01mnot\u001b[39;00m \u001b[38;5;28;01mNone\u001b[39;00m:\n\u001b[0;32m     23\u001b[0m         img \u001b[38;5;241m=\u001b[39m \u001b[38;5;28mself\u001b[39m\u001b[38;5;241m.\u001b[39mtransform(img)\n",
      "File \u001b[1;32mc:\\Users\\Ali\\Desktop\\DIG\\env\\lib\\site-packages\\PIL\\Image.py:3309\u001b[0m, in \u001b[0;36mopen\u001b[1;34m(fp, mode, formats)\u001b[0m\n\u001b[0;32m   3307\u001b[0m     warnings\u001b[38;5;241m.\u001b[39mwarn(message)\n\u001b[0;32m   3308\u001b[0m msg \u001b[38;5;241m=\u001b[39m \u001b[38;5;124m\"\u001b[39m\u001b[38;5;124mcannot identify image file \u001b[39m\u001b[38;5;132;01m%r\u001b[39;00m\u001b[38;5;124m\"\u001b[39m \u001b[38;5;241m%\u001b[39m (filename \u001b[38;5;28;01mif\u001b[39;00m filename \u001b[38;5;28;01melse\u001b[39;00m fp)\n\u001b[1;32m-> 3309\u001b[0m \u001b[38;5;28;01mraise\u001b[39;00m UnidentifiedImageError(msg)\n",
      "\u001b[1;31mUnidentifiedImageError\u001b[0m: cannot identify image file 'C:\\\\Users\\\\Ali\\\\Desktop\\\\DIG\\\\Noisee_denoise\\\\for_noise\\\\Thumbs.db'"
     ]
    }
   ],
   "source": [
    "to_pil = ToPILImage()\n",
    "save_dir = r'C:\\Users\\Ali\\Desktop\\DIG\\Noisee_denoise\\Split_org_for_noise'\n",
    "for i, img in enumerate(imgs):\n",
    "    height = 1792\n",
    "    width = 224\n",
    "    channels = 3 \n",
    "\n",
    "# Calculate the height of each sub-image\n",
    "    sub_image_height = height // 8  # Divide by the number of desired parts\n",
    "\n",
    "# Split the image into 8 equal parts along the height\n",
    "    \n",
    "    for i in range(8):\n",
    "        start_row = i * sub_image_height\n",
    "        end_row = (i + 1) * sub_image_height\n",
    "\n",
    "        sub_image = img[:,:,start_row:end_row]\n",
    "\n",
    "        image_pil = to_pil(sub_image)\n",
    "\n",
    "# Save the PIL Image\n",
    "        image_pil.save(os.path.join(save_dir, f'split{i}_bsplit_{torch.rand(1).item()}.png'))\n",
    "\n",
    "\n"
   ]
  },
  {
   "cell_type": "code",
   "execution_count": 12,
   "metadata": {},
   "outputs": [],
   "source": [
    "\n",
    "\n",
    "noise_path=r'C:\\Users\\Ali\\Desktop\\DIG\\Noisee_denoise\\for_noise'\n",
    "for i,file_name in enumerate(os.listdir(noise_path)):\n",
    "    if file_name != 'Thumbs.db':\n",
    "        file_path = os.path.join(noise_path, file_name)\n",
    "\n",
    "    img = cv2.imread(file_path)\n",
    "    mean = 0\n",
    "    std_dev = 10  \n",
    "    noise = np.random.normal(mean, std_dev, img.shape)\n",
    "\n",
    "    noisy_img = img + noise\n",
    "\n",
    "    # Clip values to ensure they are in the valid pixel range [0, 255]\n",
    "    noisy_img = np.clip(noisy_img, 0, 255).astype(np.uint8)\n",
    "    cv2.imwrite(r'C:\\Users\\Ali\\Desktop\\DIG\\Noisee_denoise\\M_noise\\\\' + str(i) + '.png',noisy_img) "
   ]
  }
 ],
 "metadata": {
  "kernelspec": {
   "display_name": "env",
   "language": "python",
   "name": "python3"
  },
  "language_info": {
   "codemirror_mode": {
    "name": "ipython",
    "version": 3
   },
   "file_extension": ".py",
   "mimetype": "text/x-python",
   "name": "python",
   "nbconvert_exporter": "python",
   "pygments_lexer": "ipython3",
   "version": "3.9.13"
  }
 },
 "nbformat": 4,
 "nbformat_minor": 2
}
