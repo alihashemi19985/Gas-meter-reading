{
 "cells": [
  {
   "cell_type": "code",
   "execution_count": 8,
   "metadata": {},
   "outputs": [],
   "source": [
    "import os\n",
    "import numpy as np\n",
    "import matplotlib.pyplot as plt \n",
    "from PIL import Image\n",
    "import PIL\n",
    "import torch\n",
    "import torch.nn as nn\n",
    "from torch.utils.data import Dataset,random_split\n",
    "from torch.optim.lr_scheduler import ExponentialLR, CosineAnnealingWarmRestarts,PolynomialLR\n",
    "from torchvision import transforms, models \n",
    "from Data_loader import CustomDataset\n",
    "from Model import Mobile_Net\n",
    "import warnings\n",
    "warnings.filterwarnings(\"ignore\") \n",
    "from Chekpoint import Checkpoint\n",
    "from torchvision import models\n",
    "from torchsummary import summary   \n",
    "import cv2  \n",
    "\n"
   ]
  },
  {
   "cell_type": "code",
   "execution_count": 5,
   "metadata": {},
   "outputs": [],
   "source": [
    "loaded_model = torch.load('net.pth') "
   ]
  },
  {
   "cell_type": "code",
   "execution_count": 6,
   "metadata": {},
   "outputs": [],
   "source": [
    "valid_dataset_path = r'C:\\Users\\Ali\\Desktop\\DIG\\Noisee_denoise\\labels\\crop_light_noise_labeling_test'  \n",
    "\n",
    "transform = transforms.Compose([\n",
    "    transforms.Resize((224,224)),\n",
    "    #transforms.CenterCrop((224,224)),\n",
    "    transforms.ToTensor()\n",
    "])\n",
    "valid_custom_dataset = CustomDataset(root=valid_dataset_path, transform=transform)   \n",
    "valid_loader = torch.utils.data.DataLoader(valid_custom_dataset, batch_size=64, shuffle=True)\n",
    "data,label = next(iter(valid_loader))"
   ]
  },
  {
   "cell_type": "code",
   "execution_count": 7,
   "metadata": {},
   "outputs": [],
   "source": [
    "from PIL import Image\n",
    "import torch\n",
    "import torchvision.transforms as transforms\n",
    "for i, data in enumerate(valid_custom_dataset):\n",
    "    # print(data[][0].shape)\n",
    "    img,label = data[0],data[1]\n",
    "    img = img.unsqueeze(0)\n",
    "     # Example tensor, replace with your own\n",
    "    out = loaded_model(img)\n",
    "    _,pred = torch.max(out.data,1)\n",
    "    if pred != label:\n",
    "    # Convert tensor to PIL Image\n",
    "        pil_image = transforms.ToPILImage()(img.squeeze(0))\n",
    "\n",
    "    # Display the image\n",
    "        pil_image.save(r'C:\\Users\\Ali\\Desktop\\DIG\\Error_analysis\\V2\\\\' + str(i)+ '{' +str(label)+ '-' +str(pred.item())+'}'  +'.png')\n"
   ]
  },
  {
   "cell_type": "code",
   "execution_count": 28,
   "metadata": {},
   "outputs": [
    {
     "data": {
      "text/plain": [
       "tensor([0])"
      ]
     },
     "execution_count": 28,
     "metadata": {},
     "output_type": "execute_result"
    }
   ],
   "source": [
    "p = r'C:\\Users\\Ali\\Desktop\\DIG\\Error_analysis\\V1\\19147{9-7}.png'\n",
    "img_p = cv2.imread(p)\n",
    "\n",
    "img_p = PIL.Image.fromarray(img_p)\n",
    "#img = Image.open(p).convert('RGB')\n",
    "transform = transforms.Compose([\n",
    "    \n",
    "    transforms.Resize((224,224)),\n",
    "    transforms.ToTensor()\n",
    "])\n",
    "img = transform(img_p)\n",
    "_,pred = torch.max(loaded_model(img.unsqueeze(0)),1)\n",
    "pred  "
   ]
  },
  {
   "cell_type": "code",
   "execution_count": 37,
   "metadata": {},
   "outputs": [
    {
     "data": {
      "text/plain": [
       "torch.Size([1, 224, 224])"
      ]
     },
     "execution_count": 37,
     "metadata": {},
     "output_type": "execute_result"
    }
   ],
   "source": [
    "p = r'C:\\Users\\Ali\\Desktop\\DIG\\Error_analysis\\V1\\19147{9-7}.png'\n",
    "img_p = cv2.imread(p,0)\n",
    "img_p = PIL.Image.fromarray(img_p)\n",
    "#img = Image.open(p).convert('RGB')\n",
    "transform = transforms.Compose([\n",
    "    \n",
    "    transforms.Resize((224,224)),\n",
    "    transforms.ToTensor()\n",
    "])\n",
    "img = transform(img_p)\n"
   ]
  }
 ],
 "metadata": {
  "kernelspec": {
   "display_name": "env",
   "language": "python",
   "name": "python3"
  },
  "language_info": {
   "codemirror_mode": {
    "name": "ipython",
    "version": 3
   },
   "file_extension": ".py",
   "mimetype": "text/x-python",
   "name": "python",
   "nbconvert_exporter": "python",
   "pygments_lexer": "ipython3",
   "version": "3.9.13"
  }
 },
 "nbformat": 4,
 "nbformat_minor": 2
}
